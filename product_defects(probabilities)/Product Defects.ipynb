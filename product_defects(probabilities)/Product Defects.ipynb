{
 "cells": [
  {
   "cell_type": "markdown",
   "id": "4b2cd154",
   "metadata": {},
   "source": [
    "# Product Defects"
   ]
  },
  {
   "cell_type": "markdown",
   "id": "9fb46377",
   "metadata": {},
   "source": [
    "You are in charge of monitoring the number of products from a specific factory. You've been told that the number of defects on a given day follows the Poisson distribution with the rate parameter (lambda) equal to 7. You're new here, so you want to get a feel for what it means to follow the Poisson(7) distribution. You remember that the Poisson distribution is special because the rate parameter represents the expected value of the distribution, so in this case, the expected value of the Poisson(7) distribution is 7 defects per day.\n",
    "\n",
    "You will investigate certain attributes of the Poisson(7) distribution to get an intuition for how many defective objects you should expect to see in a given amount of time. You will also practice and apply what you know about the Poisson distribution on a practice data set that you will simulate yourself."
   ]
  },
  {
   "cell_type": "markdown",
   "id": "24b7687a",
   "metadata": {},
   "source": [
    "## Distribution in Theory"
   ]
  },
  {
   "cell_type": "markdown",
   "id": "6507ea83",
   "metadata": {},
   "source": "1. Create a variable called `lam` that represents the rate parameter of our distribution (the poisson's lambda)."
  },
  {
   "cell_type": "code",
   "id": "5004fed3",
   "metadata": {
    "ExecuteTime": {
     "end_time": "2024-12-30T01:13:43.028632Z",
     "start_time": "2024-12-30T01:13:30.246562Z"
    }
   },
   "source": [
    "import scipy.stats as stats\n",
    "import numpy as np\n",
    "\n",
    "## Task 1:\n",
    "lam = 7"
   ],
   "outputs": [],
   "execution_count": 2
  },
  {
   "cell_type": "markdown",
   "id": "74c409d6",
   "metadata": {},
   "source": [
    "2. You know that the rate parameter of a Poisson distribution is equal to the expected value. So in our factory, the rate parameter would equal the expected number of defects on a given day. You are curious about how often we might observe the exact expected number of defects.\n",
    "\n",
    "   Calculate and print the probability of observing exactly `lam` defects on a given day."
   ]
  },
  {
   "cell_type": "code",
   "id": "9460b5b8",
   "metadata": {
    "ExecuteTime": {
     "end_time": "2024-12-30T01:14:52.778242Z",
     "start_time": "2024-12-30T01:14:52.763312Z"
    }
   },
   "source": [
    "## Task 2:\n",
    "stats.poisson.pmf(7, 7)"
   ],
   "outputs": [
    {
     "data": {
      "text/plain": [
       "np.float64(0.14900277967433773)"
      ]
     },
     "execution_count": 15,
     "metadata": {},
     "output_type": "execute_result"
    }
   ],
   "execution_count": 15
  },
  {
   "cell_type": "markdown",
   "id": "2f2e2d1f",
   "metadata": {},
   "source": [
    "3. Our boss said that having 4 or fewer defects on a given day is an exceptionally good day. You are curious about how often that might happen.\n",
    "\n",
    "   Calculate and print the probability of having one of those days."
   ]
  },
  {
   "cell_type": "code",
   "id": "f4ebb772",
   "metadata": {
    "ExecuteTime": {
     "end_time": "2024-12-30T01:15:19.520691Z",
     "start_time": "2024-12-30T01:15:19.511822Z"
    }
   },
   "source": [
    "## Task 3:\n",
    "stats.poisson.cdf(4, 7)"
   ],
   "outputs": [
    {
     "data": {
      "text/plain": [
       "np.float64(0.17299160788207144)"
      ]
     },
     "execution_count": 16,
     "metadata": {},
     "output_type": "execute_result"
    }
   ],
   "execution_count": 16
  },
  {
   "cell_type": "markdown",
   "id": "53d28c8f",
   "metadata": {},
   "source": [
    "4. On the other hand, our boss said that having more than 9 defects on a given day is considered a bad day.\n",
    "\n",
    "   Calculate and print the probability of having one of these bad days."
   ]
  },
  {
   "cell_type": "code",
   "id": "a2e52583",
   "metadata": {
    "ExecuteTime": {
     "end_time": "2024-12-30T01:16:12.627820Z",
     "start_time": "2024-12-30T01:16:12.613373Z"
    }
   },
   "source": [
    "## Task 4:\n",
    "1 - stats.poisson.cdf(9, 7)"
   ],
   "outputs": [
    {
     "data": {
      "text/plain": [
       "np.float64(0.16950406276132668)"
      ]
     },
     "execution_count": 18,
     "metadata": {},
     "output_type": "execute_result"
    }
   ],
   "execution_count": 18
  },
  {
   "cell_type": "markdown",
   "id": "51b70b96",
   "metadata": {},
   "source": [
    "## Distribution in Practice"
   ]
  },
  {
   "cell_type": "markdown",
   "id": "64c0a33e",
   "metadata": {},
   "source": [
    "5. You've familiarized yourself a little bit about how the Poisson distribution works in theory by calculating different probabilities. But let's look at what this might look like in practice.\n",
    "\n",
    "   Create a variable called `year_defects` that has 365 random values from the Poisson distribution."
   ]
  },
  {
   "metadata": {
    "ExecuteTime": {
     "end_time": "2024-12-30T01:18:32.683796Z",
     "start_time": "2024-12-30T01:18:32.675190Z"
    }
   },
   "cell_type": "code",
   "source": [
    "## Task 5:\n",
    "year_defects = stats.poisson.rvs(7, size=365)\n",
    "year_defects"
   ],
   "id": "ca2113e6",
   "outputs": [
    {
     "data": {
      "text/plain": [
       "array([ 7,  7, 10, 11,  6,  7,  6,  3,  7,  8,  3,  8, 10,  5,  6,  5,  7,\n",
       "        6,  6, 11, 10,  6, 12,  8,  3,  7, 12,  8, 17,  8,  7,  5,  9,  5,\n",
       "        5,  6,  8,  7,  5,  8,  7,  8,  7, 11, 11,  4,  3, 11,  9,  7, 13,\n",
       "        7, 12,  5,  7,  4,  6,  8,  3,  6,  6, 10,  3,  5,  9,  3,  7, 10,\n",
       "       10,  3,  5,  2,  4,  7,  6,  6,  3,  7,  5, 10,  5,  7,  6,  9,  8,\n",
       "        9,  7,  6, 11,  9, 10,  5, 14,  8,  4,  8,  7,  6,  9,  5,  5,  7,\n",
       "        5,  6,  4, 10,  6,  4,  8, 11,  5,  6, 12,  1,  3,  9,  6,  7,  8,\n",
       "       10,  2,  8,  8,  2,  3, 10,  5,  6, 11,  8, 12, 10,  7,  6,  4,  5,\n",
       "        9,  6,  7,  8,  9, 10,  5,  4,  8,  6,  6,  3,  7,  8,  7, 12,  8,\n",
       "        2,  6,  8,  5, 14,  8,  8, 12,  9,  3,  6,  6,  9, 11,  4,  5,  5,\n",
       "       10, 12,  4,  6, 10,  5,  6,  4,  6,  7, 11,  7,  9,  4,  6, 16,  9,\n",
       "       11,  9,  6, 10,  5,  9, 10,  7,  8,  5,  7,  5, 10,  4,  8,  6,  8,\n",
       "        3,  7,  7,  5, 11,  4,  5,  8,  7, 10,  6,  5, 10, 12,  8,  5,  8,\n",
       "        8,  8,  5, 12,  4,  4,  6,  3,  9, 11,  9,  4,  2,  7,  7,  3,  6,\n",
       "        7, 10,  8,  7,  4,  8,  5,  5,  7,  7,  3,  9,  9,  9,  6,  9,  3,\n",
       "        4,  5,  7,  7,  6,  6,  6,  8,  6,  8,  6,  2,  6,  5,  8, 11,  8,\n",
       "        6, 10,  9,  9,  6,  9, 11,  4,  5,  6,  9, 10,  4,  5, 10,  8,  8,\n",
       "       12,  5,  5,  5,  6,  6, 12,  5,  8,  8, 11,  5,  8,  5,  3, 14,  7,\n",
       "        6,  7,  9, 10,  8,  4,  6,  7,  6,  8,  6,  5,  9,  6,  3,  1,  9,\n",
       "        5,  8, 13, 10,  6,  2,  7,  8, 10,  5,  9,  6,  8, 10, 10,  7,  5,\n",
       "        3,  8,  3,  7,  8,  6,  6,  6, 11, 10,  4,  8, 12,  7,  6,  8, 10,\n",
       "        5,  8, 13,  9,  5,  8, 10,  8])"
      ]
     },
     "execution_count": 19,
     "metadata": {},
     "output_type": "execute_result"
    }
   ],
   "execution_count": 19
  },
  {
   "cell_type": "markdown",
   "id": "d7f3dce8",
   "metadata": {},
   "source": [
    "6. Let's take a look at our new dataset. Print the first 20 values in this dataset."
   ]
  },
  {
   "cell_type": "code",
   "id": "b1d5f0c1",
   "metadata": {
    "ExecuteTime": {
     "end_time": "2024-12-30T01:19:07.058393Z",
     "start_time": "2024-12-30T01:19:07.049548Z"
    }
   },
   "source": [
    "## Task 6:\n",
    "year_defects[:20]"
   ],
   "outputs": [
    {
     "data": {
      "text/plain": [
       "array([ 7,  7, 10, 11,  6,  7,  6,  3,  7,  8,  3,  8, 10,  5,  6,  5,  7,\n",
       "        6,  6, 11])"
      ]
     },
     "execution_count": 20,
     "metadata": {},
     "output_type": "execute_result"
    }
   ],
   "execution_count": 20
  },
  {
   "cell_type": "markdown",
   "id": "eedc358b",
   "metadata": {},
   "source": [
    "7. If we expect 7 defects on a given day, what is the total number of defects we would expect over 365 days?\n",
    "\n",
    "   Calculate and print this value to the output terminal."
   ]
  },
  {
   "cell_type": "code",
   "id": "75d2f0e0",
   "metadata": {
    "ExecuteTime": {
     "end_time": "2024-12-30T01:19:41.422538Z",
     "start_time": "2024-12-30T01:19:41.414908Z"
    }
   },
   "source": [
    "## Task 7:\n",
    "7 * 365"
   ],
   "outputs": [
    {
     "data": {
      "text/plain": [
       "2555"
      ]
     },
     "execution_count": 21,
     "metadata": {},
     "output_type": "execute_result"
    }
   ],
   "execution_count": 21
  },
  {
   "cell_type": "markdown",
   "id": "ad96cdf6",
   "metadata": {},
   "source": [
    "8. Calculate and print the total sum of the dataset `year_defects`. How does this compare to the total number of defects we expected over 365 days?"
   ]
  },
  {
   "cell_type": "code",
   "id": "da304786",
   "metadata": {
    "ExecuteTime": {
     "end_time": "2024-12-30T01:20:59.430553Z",
     "start_time": "2024-12-30T01:20:59.427192Z"
    }
   },
   "source": [
    "## Task 8:\n",
    "print(year_defects.sum())"
   ],
   "outputs": [
    {
     "name": "stdout",
     "output_type": "stream",
     "text": [
      "2598\n"
     ]
    }
   ],
   "execution_count": 26
  },
  {
   "cell_type": "markdown",
   "id": "aefa9e09",
   "metadata": {},
   "source": [
    "9. Calculate and print the average number of defects per day from our simulated dataset.\n",
    "\n",
    "   How does this compare to the expected average number of defects each day that we know from the given rate parameter of the Poisson distribution?"
   ]
  },
  {
   "cell_type": "code",
   "id": "febc26d4",
   "metadata": {
    "ExecuteTime": {
     "end_time": "2024-12-30T01:21:02.511143Z",
     "start_time": "2024-12-30T01:21:02.508106Z"
    }
   },
   "source": [
    "## Task 9:\n",
    "print(year_defects.mean())"
   ],
   "outputs": [
    {
     "name": "stdout",
     "output_type": "stream",
     "text": [
      "7.117808219178082\n"
     ]
    }
   ],
   "execution_count": 27
  },
  {
   "cell_type": "markdown",
   "id": "31308a48",
   "metadata": {},
   "source": [
    "10. You're worried about what the highest amount of defects in a single day might be because that would be a hectic day.\n",
    "\n",
    "    Print the maximum value of `year_defects`."
   ]
  },
  {
   "cell_type": "code",
   "id": "18feb435",
   "metadata": {
    "ExecuteTime": {
     "end_time": "2024-12-30T01:21:05.288325Z",
     "start_time": "2024-12-30T01:21:05.285810Z"
    }
   },
   "source": [
    "## Task 10:\n",
    "print(year_defects.max())"
   ],
   "outputs": [
    {
     "name": "stdout",
     "output_type": "stream",
     "text": [
      "17\n"
     ]
    }
   ],
   "execution_count": 28
  },
  {
   "cell_type": "markdown",
   "id": "64b6a84a",
   "metadata": {},
   "source": [
    "11. Wow, it would probably be super busy if there were that many defects on a single day. Hopefully, it is a rare event!\n",
    "\n",
    "    Calculate and print the probability of observing that maximum value or more from the Poisson(7) distribution."
   ]
  },
  {
   "cell_type": "code",
   "id": "a63b1329",
   "metadata": {
    "ExecuteTime": {
     "end_time": "2024-12-30T01:21:46.085769Z",
     "start_time": "2024-12-30T01:21:46.068335Z"
    }
   },
   "source": [
    "## Task 11:\n",
    "stats.poisson.pmf(year_defects.max(), 7)"
   ],
   "outputs": [
    {
     "data": {
      "text/plain": [
       "np.float64(0.00059639884231544)"
      ]
     },
     "execution_count": 30,
     "metadata": {},
     "output_type": "execute_result"
    }
   ],
   "execution_count": 30
  },
  {
   "cell_type": "markdown",
   "id": "b45f0bab",
   "metadata": {},
   "source": [
    "## Extra"
   ]
  },
  {
   "cell_type": "markdown",
   "id": "5060f0ec",
   "metadata": {},
   "source": [
    "12. Congratulations! At this point, you have now explored the Poisson distribution and even worked with some simulated data. We have a couple of extra tasks if you would like an extra challenge. Feel free to try them out or move onto the next topic!\n",
    "\n",
    "    Let's say we want to know how many defects in a given day would put us in the 90th percentile of the Poisson(7) distribution. One way we could calculate this is by using the following method:\n",
    "    \n",
    "    ```py\n",
    "    stats.poisson.ppf(percentile, lambda)\n",
    "    ```\n",
    "    \n",
    "    `percentile` is equal to the desired percentile (a decimal between 0 and 1), and `lambda` is the lambda parameter of the Poisson distribution. This function is essentially the inverse of the CDF.\n",
    "    \n",
    "    Use this method to calculate and print the number of defects that would put us in the 90th percentile for a given day. In other words, on 90% of days, we will observe fewer defects than this number."
   ]
  },
  {
   "cell_type": "code",
   "id": "e6156c3e",
   "metadata": {
    "ExecuteTime": {
     "end_time": "2024-12-30T01:13:43.091422Z",
     "start_time": "2024-12-30T01:13:43.089706Z"
    }
   },
   "source": [
    "## Task 12:\n"
   ],
   "outputs": [],
   "execution_count": 13
  },
  {
   "cell_type": "markdown",
   "id": "0d86d9d0",
   "metadata": {},
   "source": [
    "13. Now let's see what proportion of our simulated dataset `year_defects` is greater than or equal to the number we calculated in the previous step.\n",
    "\n",
    "    By definition of a percentile, we would expect 1 - .90, or about 10% of days to be in this range.\n",
    "    \n",
    "    To calculate this:\n",
    "    \n",
    "     1) Count the number of values in the dataset that are greater than or equal to the 90th percentile value.\n",
    "     \n",
    "     2) Divide this number by the length of the dataset."
   ]
  },
  {
   "cell_type": "code",
   "id": "c80c6e6a",
   "metadata": {
    "ExecuteTime": {
     "end_time": "2024-12-30T01:13:43.096776Z",
     "start_time": "2024-12-30T01:13:43.095074Z"
    }
   },
   "source": [
    "## Task 13:\n"
   ],
   "outputs": [],
   "execution_count": 14
  },
  {
   "cell_type": "code",
   "id": "9961924d",
   "metadata": {
    "ExecuteTime": {
     "end_time": "2024-12-30T01:13:43.102056Z",
     "start_time": "2024-12-30T01:13:43.100656Z"
    }
   },
   "source": [],
   "outputs": [],
   "execution_count": null
  }
 ],
 "metadata": {
  "kernelspec": {
   "display_name": "Python 3 (ipykernel)",
   "language": "python",
   "name": "python3"
  },
  "language_info": {
   "codemirror_mode": {
    "name": "ipython",
    "version": 3
   },
   "file_extension": ".py",
   "mimetype": "text/x-python",
   "name": "python",
   "nbconvert_exporter": "python",
   "pygments_lexer": "ipython3",
   "version": "3.7.11"
  }
 },
 "nbformat": 4,
 "nbformat_minor": 5
}
