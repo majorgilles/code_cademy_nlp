{
 "cells": [
  {
   "cell_type": "markdown",
   "metadata": {},
   "source": [
    "# Setup"
   ]
  },
  {
   "cell_type": "code",
   "execution_count": 45,
   "metadata": {},
   "outputs": [],
   "source": [
    "# noqa: PLR0913\n",
    "import re\n",
    "import urllib.request\n",
    "from pathlib import Path\n",
    "\n",
    "import tiktoken\n",
    "import torch\n",
    "from dataset import GPTDatasetV1\n",
    "from tokenizer import REGEX_PATTERN, SimpleTokenizerV1, SimpleTokenizerV2"
   ]
  },
  {
   "cell_type": "markdown",
   "metadata": {},
   "source": [
    "# Word tokenizers (preprocessing)"
   ]
  },
  {
   "cell_type": "code",
   "execution_count": 46,
   "metadata": {},
   "outputs": [
    {
     "name": "stdout",
     "output_type": "stream",
     "text": [
      "Total number of character: 20480\n",
      "I HAD always thought Jack Gisburn rather a cheap genius--though a good fellow enough--so it was no \n"
     ]
    }
   ],
   "source": [
    "url = \"https://raw.githubusercontent.com/rasbt/\" \"LLMs-from-scratch/main/ch02/01_main-chapter-code/\" \"the-verdict.txt\"\n",
    "file_path = \"the-verdict.txt\"\n",
    "\n",
    "if not Path(file_path).exists():\n",
    "    urllib.request.urlretrieve(url, file_path)\n",
    "\n",
    "with Path(file_path).open(\"r\") as f:\n",
    "    raw_text = f.read()\n",
    "\n",
    "print(\"Total number of character:\", len(raw_text))\n",
    "print(raw_text[:99])"
   ]
  },
  {
   "cell_type": "markdown",
   "metadata": {},
   "source": [
    "## Splitting text into tokens"
   ]
  },
  {
   "cell_type": "code",
   "execution_count": 47,
   "metadata": {},
   "outputs": [
    {
     "name": "stdout",
     "output_type": "stream",
     "text": [
      "['Hello', ',', 'world', '.', 'This', ',', 'is', 'a', 'test', '.']\n",
      "['Hello', ',', 'world', '.', 'Is', 'this', '--', 'a', 'test', '?']\n"
     ]
    }
   ],
   "source": [
    "some_text = \"Hello, world. This, is a test.\"\n",
    "result = re.split(REGEX_PATTERN, some_text, flags=re.IGNORECASE)\n",
    "result = [token for token in result if token and token.strip()]\n",
    "print(result)\n",
    "\n",
    "some_text = \"Hello, world. Is this-- a test?\"\n",
    "result = re.split(REGEX_PATTERN, some_text, flags=re.IGNORECASE)\n",
    "result = [token for token in result if token and token.strip()]\n",
    "print(result)"
   ]
  },
  {
   "cell_type": "code",
   "execution_count": null,
   "metadata": {},
   "outputs": [],
   "source": []
  },
  {
   "cell_type": "code",
   "execution_count": null,
   "metadata": {},
   "outputs": [],
   "source": []
  },
  {
   "cell_type": "markdown",
   "metadata": {},
   "source": [
    "### Applying regex to short story"
   ]
  },
  {
   "cell_type": "code",
   "execution_count": 48,
   "metadata": {},
   "outputs": [
    {
     "name": "stdout",
     "output_type": "stream",
     "text": [
      "4649\n",
      "['I', 'HAD', 'always', 'thought', 'Jack', 'Gisburn', 'rather', 'a', 'cheap', 'genius', '--', 'though', 'a', 'good', 'fellow', 'enough', '--', 'so', 'it', 'was', 'no', 'great', 'surprise', 'to', 'me', 'to', 'hear', 'that', ',', 'in']\n"
     ]
    }
   ],
   "source": [
    "pre_prcessed = re.split(REGEX_PATTERN, raw_text, flags=re.IGNORECASE)\n",
    "pre_prcessed = [token for token in pre_prcessed if token and token.strip()]\n",
    "print(len(pre_prcessed))\n",
    "print(pre_prcessed[:30])"
   ]
  },
  {
   "cell_type": "markdown",
   "metadata": {},
   "source": [
    "## Assigning ids to tokens"
   ]
  },
  {
   "cell_type": "code",
   "execution_count": 49,
   "metadata": {},
   "outputs": [
    {
     "data": {
      "text/plain": [
       "1159"
      ]
     },
     "execution_count": 49,
     "metadata": {},
     "output_type": "execute_result"
    }
   ],
   "source": [
    "all_words = sorted(set(pre_prcessed))\n",
    "vocab_size = len(all_words)\n",
    "vocab_size"
   ]
  },
  {
   "cell_type": "code",
   "execution_count": 50,
   "metadata": {},
   "outputs": [
    {
     "name": "stdout",
     "output_type": "stream",
     "text": [
      "('!', 0)\n",
      "('\"', 1)\n",
      "(\"'\", 2)\n",
      "('(', 3)\n",
      "(')', 4)\n",
      "(',', 5)\n",
      "('--', 6)\n",
      "('.', 7)\n",
      "(':', 8)\n",
      "(';', 9)\n",
      "('?', 10)\n",
      "('A', 11)\n",
      "('Ah', 12)\n",
      "('Among', 13)\n",
      "('And', 14)\n",
      "('Are', 15)\n",
      "('Arrt', 16)\n",
      "('As', 17)\n",
      "('At', 18)\n",
      "('Be', 19)\n",
      "('Begin', 20)\n",
      "('Burlington', 21)\n",
      "('But', 22)\n",
      "('By', 23)\n",
      "('Carlo', 24)\n",
      "('Carlo;', 25)\n",
      "('Chicago', 26)\n",
      "('Claude', 27)\n",
      "('Come', 28)\n",
      "('Croft', 29)\n",
      "('Destroyed', 30)\n",
      "('Devonshire', 31)\n",
      "('Don', 32)\n",
      "('Dubarry', 33)\n",
      "('Emperors', 34)\n",
      "('Florence', 35)\n",
      "('For', 36)\n",
      "('Gallery', 37)\n",
      "('Gideon', 38)\n",
      "('Gisburn', 39)\n",
      "('Gisburns', 40)\n",
      "('Grafton', 41)\n",
      "('Greek', 42)\n",
      "('Grindle', 43)\n",
      "('Grindle:', 44)\n",
      "('Grindles', 45)\n",
      "('HAD', 46)\n",
      "('Had', 47)\n",
      "('Hang', 48)\n",
      "('Has', 49)\n",
      "('He', 50)\n"
     ]
    }
   ],
   "source": [
    "vocab = {token: integer for integer, token in enumerate(all_words)}\n",
    "max_tokens = 50\n",
    "for i, item in enumerate(vocab.items()):\n",
    "    print(item)\n",
    "    if i >= max_tokens:\n",
    "        break"
   ]
  },
  {
   "cell_type": "markdown",
   "metadata": {},
   "source": [
    "## Using simple tokenizer"
   ]
  },
  {
   "cell_type": "markdown",
   "metadata": {},
   "source": [
    "### Encoding"
   ]
  },
  {
   "cell_type": "code",
   "execution_count": 51,
   "metadata": {},
   "outputs": [
    {
     "data": {
      "text/plain": [
       "[1,\n",
       " 58,\n",
       " 2,\n",
       " 872,\n",
       " 1013,\n",
       " 615,\n",
       " 541,\n",
       " 763,\n",
       " 5,\n",
       " 1155,\n",
       " 608,\n",
       " 5,\n",
       " 1,\n",
       " 69,\n",
       " 7,\n",
       " 39,\n",
       " 873,\n",
       " 1136,\n",
       " 773,\n",
       " 812,\n",
       " 7]"
      ]
     },
     "execution_count": 51,
     "metadata": {},
     "output_type": "execute_result"
    }
   ],
   "source": [
    "tokenizer = SimpleTokenizerV1(vocab)\n",
    "\n",
    "some_text = \"\"\"\"It's the last he painted, you know,\"\n",
    "       Mrs. Gisburn said with pardonable pride.\"\"\"\n",
    "ids = tokenizer.encode(some_text)\n",
    "ids"
   ]
  },
  {
   "cell_type": "markdown",
   "metadata": {},
   "source": [
    "### Decoding"
   ]
  },
  {
   "cell_type": "code",
   "execution_count": 52,
   "metadata": {},
   "outputs": [
    {
     "data": {
      "text/plain": [
       "'\" It\\' s the last he painted, you know,\" Mrs. Gisburn said with pardonable pride.'"
      ]
     },
     "execution_count": 52,
     "metadata": {},
     "output_type": "execute_result"
    }
   ],
   "source": [
    "result = tokenizer.decode(ids)\n",
    "result"
   ]
  },
  {
   "cell_type": "markdown",
   "metadata": {},
   "source": [
    "### Applying it to never seen text"
   ]
  },
  {
   "cell_type": "code",
   "execution_count": 53,
   "metadata": {},
   "outputs": [],
   "source": [
    "some_text = \"Hello, do you like tea?\"\n",
    "# print(tokenizer.encode(text))  # raises because \"Hello\" is not part of the vocabulary !"
   ]
  },
  {
   "cell_type": "code",
   "execution_count": null,
   "metadata": {},
   "outputs": [],
   "source": []
  },
  {
   "cell_type": "markdown",
   "metadata": {},
   "source": [
    "### Adding special tokens <unk> and <|endoftext|>"
   ]
  },
  {
   "cell_type": "code",
   "execution_count": 54,
   "metadata": {},
   "outputs": [
    {
     "data": {
      "text/plain": [
       "1161"
      ]
     },
     "execution_count": 54,
     "metadata": {},
     "output_type": "execute_result"
    }
   ],
   "source": [
    "all_tokens = sorted(set(pre_prcessed))\n",
    "all_tokens.extend([\"<|endoftext|>\", \"<|unk|>\"])\n",
    "vocab = {token: integer for integer, token in enumerate(all_tokens)}\n",
    "len(vocab.items())"
   ]
  },
  {
   "cell_type": "code",
   "execution_count": 55,
   "metadata": {},
   "outputs": [
    {
     "data": {
      "text/plain": [
       "'Hello, do you like tea? <|endoftext|> In the sunlit terraces of the palace.'"
      ]
     },
     "execution_count": 55,
     "metadata": {},
     "output_type": "execute_result"
    }
   ],
   "source": [
    "text1 = \"Hello, do you like tea?\"\n",
    "text2 = \"In the sunlit terraces of the palace.\"\n",
    "text = \" <|endoftext|> \".join((text1, text2))\n",
    "text"
   ]
  },
  {
   "cell_type": "code",
   "execution_count": 56,
   "metadata": {},
   "outputs": [
    {
     "name": "stdout",
     "output_type": "stream",
     "text": [
      "[1160, 5, 362, 1155, 642, 1000, 10, 1159, 57, 1013, 981, 1009, 738, 1013, 1160, 7]\n",
      "<|unk|>, do you like tea? <|endoftext|> In the sunlit terraces of the <|unk|>.\n"
     ]
    }
   ],
   "source": [
    "tokenizer = SimpleTokenizerV2(vocab)\n",
    "print(tokenizer.encode(text))\n",
    "print(tokenizer.decode(tokenizer.encode(text)))"
   ]
  },
  {
   "cell_type": "markdown",
   "metadata": {},
   "source": [
    "# BPE Tokenizer\n"
   ]
  },
  {
   "cell_type": "code",
   "execution_count": 57,
   "metadata": {},
   "outputs": [
    {
     "name": "stdout",
     "output_type": "stream",
     "text": [
      "Tokens and their text:\n",
      "Token ID: 15496, Text: Hello\n",
      "Token ID: 11, Text: ,\n",
      "Token ID: 466, Text:  do\n",
      "Token ID: 345, Text:  you\n",
      "Token ID: 588, Text:  like\n",
      "Token ID: 8887, Text:  tea\n",
      "Token ID: 30, Text: ?\n",
      "Token ID: 220, Text:  \n",
      "Token ID: 50256, Text: <|endoftext|>\n",
      "Token ID: 554, Text:  In\n",
      "Token ID: 262, Text:  the\n",
      "Token ID: 4252, Text:  sun\n",
      "Token ID: 18250, Text: lit\n",
      "Token ID: 8812, Text:  terr\n",
      "Token ID: 2114, Text: aces\n",
      "Token ID: 286, Text:  of\n",
      "Token ID: 617, Text:  some\n",
      "Token ID: 34680, Text: unknown\n",
      "Token ID: 27271, Text: Place\n",
      "Token ID: 13, Text: .\n"
     ]
    }
   ],
   "source": [
    "tokenizer = tiktoken.get_encoding(\"gpt2\")\n",
    "text = \"Hello, do you like tea? <|endoftext|> In the sunlit terraces \" \"of someunknownPlace.\"\n",
    "token_ids = tokenizer.encode(text, allowed_special={\"<|endoftext|>\"})\n",
    "print(\"Tokens and their text:\")\n",
    "for token_id in token_ids:\n",
    "    print(f\"Token ID: {token_id}, Text: {tokenizer.decode([token_id])}\")"
   ]
  },
  {
   "cell_type": "code",
   "execution_count": 58,
   "metadata": {},
   "outputs": [
    {
     "name": "stdout",
     "output_type": "stream",
     "text": [
      "Hello, do you like tea? <|endoftext|> In the sunlit terraces of someunknownPlace.\n"
     ]
    }
   ],
   "source": [
    "strings = tokenizer.decode(token_ids)\n",
    "print(strings)"
   ]
  },
  {
   "cell_type": "markdown",
   "metadata": {},
   "source": [
    "## BPE encoding for unknown words excercise"
   ]
  },
  {
   "cell_type": "code",
   "execution_count": 59,
   "metadata": {},
   "outputs": [
    {
     "name": "stdout",
     "output_type": "stream",
     "text": [
      "[49, 7673, 72, 6428, 8126, 778, 448, 482, 2852, 37867, 370, 956, 71, 582, 461, 349, 0]\n",
      "Tokens and their text:\n",
      "Token ID: 49, Text: R\n",
      "Token ID: 7673, Text: ouch\n",
      "Token ID: 72, Text: i\n",
      "Token ID: 6428, Text:  mal\n",
      "Token ID: 8126, Text: aga\n",
      "Token ID: 778, Text:  pr\n",
      "Token ID: 448, Text: out\n",
      "Token ID: 482, Text: ok\n",
      "Token ID: 2852, Text: oul\n",
      "Token ID: 37867, Text:  !!\n",
      "Token ID: 370, Text:  W\n",
      "Token ID: 956, Text: hes\n",
      "Token ID: 71, Text: h\n",
      "Token ID: 582, Text:  man\n",
      "Token ID: 461, Text: ak\n",
      "Token ID: 349, Text: ol\n",
      "Token ID: 0, Text: !\n"
     ]
    }
   ],
   "source": [
    "tokenizer = tiktoken.get_encoding(\"gpt2\")\n",
    "text = \"Rouchi malaga proutokoul !! Whesh manakol!\"\n",
    "token_ids = tokenizer.encode(text)\n",
    "print(token_ids)\n",
    "print(\"Tokens and their text:\")\n",
    "for token_id in token_ids:\n",
    "    print(f\"Token ID: {token_id}, Text: {tokenizer.decode([token_id])}\")"
   ]
  },
  {
   "cell_type": "markdown",
   "metadata": {},
   "source": [
    "## Sliding window data loader"
   ]
  },
  {
   "cell_type": "markdown",
   "metadata": {},
   "source": [
    "The sliding window technique is a fundamental concept in language modeling that helps us create training data for predicting the next word in a sequence. Here's why it's important:\n",
    "\n",
    "\n",
    "1. **Context Window**: Language models need to understand the context of words to make predictions. A sliding window creates fixed-size sequences of tokens that serve as the context.\n",
    "\n",
    "\n",
    "2. **Sequential Learning**: By sliding a window over the text, we create multiple training examples from a single text, where each example teaches the model to predict the next token based on the previous ones.\n",
    "\n",
    "\n",
    "3. **Data Efficiency**: This approach allows us to generate many training examples from a limited amount of text, making efficient use of our data.\n",
    "\n",
    "Let's see how this works in practice with our encoded text."
   ]
  },
  {
   "cell_type": "markdown",
   "metadata": {},
   "source": [
    "In this example, we'll implement a sliding window data loader that creates context-target pairs from our tokenized text. This technique allows us to generate training examples where the model learns to predict the next token based on a sequence of previous tokens."
   ]
  },
  {
   "cell_type": "code",
   "execution_count": 60,
   "metadata": {},
   "outputs": [
    {
     "name": "stdout",
     "output_type": "stream",
     "text": [
      "5146\n"
     ]
    }
   ],
   "source": [
    "# Encode the raw text using the BPE tokenizer\n",
    "encoded_text = tokenizer.encode(raw_text)\n",
    "# Take a sample of the encoded text, starting from the 50th token\n",
    "encoded_sample = encoded_text[50:]\n",
    "print(len(encoded_text))"
   ]
  },
  {
   "cell_type": "markdown",
   "metadata": {},
   "source": [
    "### Creating Context-Target Pairs\n",
    "\n",
    "Now that we have our encoded text, we'll create pairs of context and target tokens. This is where the actual sliding window comes into play:\n",
    "\n",
    "1. **Context Size**: We define a fixed context size (in our example, 4 tokens) that determines how many previous tokens the model can \"see\" to make its prediction.\n",
    "\n",
    "2. **Input-Output Pairs**: For each position in the text, we create:\n",
    "   - An input sequence (x) containing the context tokens\n",
    "   - A target sequence (y) containing the tokens we want the model to predict\n",
    "\n",
    "This creates a supervised learning problem where the model learns to predict the next token given a sequence of previous tokens."
   ]
  },
  {
   "cell_type": "code",
   "execution_count": 61,
   "metadata": {},
   "outputs": [
    {
     "name": "stdout",
     "output_type": "stream",
     "text": [
      "x: [290, 4920, 2241, 287]\n",
      "y:      [4920, 2241, 287, 257]\n"
     ]
    }
   ],
   "source": [
    "# Define the context size\n",
    "context_size = 4\n",
    "# Create the input sequence (x) and the target sequence (y)\n",
    "x = encoded_sample[:context_size]\n",
    "y = encoded_sample[1 : context_size + 1]\n",
    "print(f\"x: {x}\")\n",
    "print(f\"y:      {y}\")"
   ]
  },
  {
   "cell_type": "markdown",
   "metadata": {},
   "source": [
    "# Sliding Window Process\n",
    "\n",
    "Let's examine how the sliding window creates training examples. For each step, we'll see:\n",
    "- The current context (input sequence)\n",
    "- The target token we want to predict\n",
    "\n",
    "This visualization helps understand how the window \"slides\" through the text, creating multiple training examples from a single sequence. Each example teaches the model to predict the next token based on an increasingly longer context."
   ]
  },
  {
   "cell_type": "code",
   "execution_count": 62,
   "metadata": {},
   "outputs": [
    {
     "name": "stdout",
     "output_type": "stream",
     "text": [
      "[290] ----> 4920\n",
      "[290, 4920] ----> 2241\n",
      "[290, 4920, 2241] ----> 287\n",
      "[290, 4920, 2241, 287] ----> 257\n"
     ]
    }
   ],
   "source": [
    "# Iterate through the encoded sample and create context-desired pairs\n",
    "for i in range(1, context_size + 1):\n",
    "    # Get the context (input sequence)\n",
    "    context = encoded_sample[:i]\n",
    "    # Get the desired output (next token)\n",
    "    desired = encoded_sample[i]\n",
    "    # Print the context and desired output\n",
    "    print(context, \"---->\", desired)"
   ]
  },
  {
   "cell_type": "code",
   "execution_count": 63,
   "metadata": {},
   "outputs": [
    {
     "name": "stdout",
     "output_type": "stream",
     "text": [
      " and ---->  established\n",
      " and established ---->  himself\n",
      " and established himself ---->  in\n",
      " and established himself in ---->  a\n"
     ]
    }
   ],
   "source": [
    "# Same but decoding each bpe token:\n",
    "for i in range(1, context_size + 1):\n",
    "    context = encoded_sample[:i]\n",
    "    desired = encoded_sample[i]\n",
    "    print(tokenizer.decode(context), \"---->\", tokenizer.decode([desired]))"
   ]
  },
  {
   "cell_type": "markdown",
   "metadata": {},
   "source": [
    "## Pytorch dataset and dataloaders"
   ]
  },
  {
   "cell_type": "markdown",
   "metadata": {},
   "source": [
    "#### Dataloader factory"
   ]
  },
  {
   "cell_type": "code",
   "execution_count": 64,
   "metadata": {},
   "outputs": [],
   "source": [
    "def create_data_loader_v1(  # noqa: PLR0913\n",
    "    txt: str,\n",
    "    batch_size: int = 4,\n",
    "    context_window_size: int = 256,\n",
    "    stride: int = 128,\n",
    "    shuffle: bool = True,\n",
    "    drop_last: bool = True,\n",
    "    num_workers: int = 0,\n",
    ") -> None:\n",
    "    \"\"\"Factory function to create dataloader with dataset.\n",
    "\n",
    "    Args:\n",
    "        txt (str): The input text to be tokenized and processed.\n",
    "        batch_size (int, optional): Number of samples per batch. Defaults to 4.\n",
    "        context_window_size (int, optional): Size of the context window for token sequences. Defaults to 256.\n",
    "        stride (int, optional): Number of tokens to skip between consecutive windows. Defaults to 128.\n",
    "        shuffle (bool, optional): Whether to shuffle the data. Defaults to True.\n",
    "        drop_last (bool, optional): Whether to drop the last incomplete batch. Defaults to True.\n",
    "        num_workers (int, optional): Number of worker processes for data loading. Defaults to 0.\n",
    "\n",
    "    Returns:\n",
    "        torch.utils.data.DataLoader: A PyTorch DataLoader instance containing the processed dataset.\n",
    "    \"\"\"\n",
    "    tokenizer = tiktoken.get_encoding(\"gpt2\")\n",
    "    data_set = GPTDatasetV1(text=txt, tokenizer=tokenizer, context_window_size=context_window_size, stride=stride)\n",
    "\n",
    "    return torch.utils.data.DataLoader(\n",
    "        data_set,\n",
    "        batch_size=batch_size,\n",
    "        shuffle=shuffle,\n",
    "        drop_last=drop_last,\n",
    "        num_workers=num_workers,\n",
    "    )"
   ]
  },
  {
   "cell_type": "code",
   "execution_count": 65,
   "metadata": {},
   "outputs": [
    {
     "data": {
      "text/plain": [
       "[tensor([[  40,  367, 2885, 1464]]), tensor([[ 367, 2885, 1464, 1807]])]"
      ]
     },
     "execution_count": 65,
     "metadata": {},
     "output_type": "execute_result"
    }
   ],
   "source": [
    "data_loader = create_data_loader_v1(raw_text, batch_size=1, context_window_size=4, stride=1, shuffle=False)\n",
    "data_iter = iter(data_loader)\n",
    "first_batch = next(data_iter)\n",
    "first_batch"
   ]
  },
  {
   "cell_type": "code",
   "execution_count": 73,
   "metadata": {},
   "outputs": [
    {
     "name": "stdout",
     "output_type": "stream",
     "text": [
      "Inputs:\n",
      " tensor([[   40,   367,  2885,  1464],\n",
      "        [ 1807,  3619,   402,   271],\n",
      "        [10899,  2138,   257,  7026],\n",
      "        [15632,   438,  2016,   257],\n",
      "        [  922,  5891,  1576,   438],\n",
      "        [  568,   340,   373,   645],\n",
      "        [ 1049,  5975,   284,   502],\n",
      "        [  284,  3285,   326,    11]])\n",
      "\n",
      "Targets:\n",
      " tensor([[  367,  2885,  1464,  1807],\n",
      "        [ 3619,   402,   271, 10899],\n",
      "        [ 2138,   257,  7026, 15632],\n",
      "        [  438,  2016,   257,   922],\n",
      "        [ 5891,  1576,   438,   568],\n",
      "        [  340,   373,   645,  1049],\n",
      "        [ 5975,   284,   502,   284],\n",
      "        [ 3285,   326,    11,   287]])\n"
     ]
    }
   ],
   "source": [
    "data_loader = create_data_loader_v1(\n",
    "    raw_text, batch_size=8, context_window_size=4, stride=4,\n",
    "    shuffle=False\n",
    ")\n",
    "\n",
    "data_iter = iter(data_loader)\n",
    "inputs, targets = next(data_iter)\n",
    "print(\"Inputs:\\n\", inputs)\n",
    "print(\"\\nTargets:\\n\", targets)"
   ]
  }
 ],
 "metadata": {
  "kernelspec": {
   "display_name": "venv",
   "language": "python",
   "name": "python3"
  },
  "language_info": {
   "codemirror_mode": {
    "name": "ipython",
    "version": 3
   },
   "file_extension": ".py",
   "mimetype": "text/x-python",
   "name": "python",
   "nbconvert_exporter": "python",
   "pygments_lexer": "ipython3",
   "version": "3.12.6"
  }
 },
 "nbformat": 4,
 "nbformat_minor": 2
}
