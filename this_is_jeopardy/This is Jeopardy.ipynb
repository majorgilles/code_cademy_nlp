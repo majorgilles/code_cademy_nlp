{
 "cells": [
  {
   "cell_type": "markdown",
   "metadata": {},
   "source": [
    "# This is Jeopardy!"
   ]
  },
  {
   "cell_type": "markdown",
   "metadata": {},
   "source": [
    "#### Overview"
   ]
  },
  {
   "cell_type": "markdown",
   "metadata": {},
   "source": [
    "This project is slightly different than others you have encountered thus far. Instead of a step-by-step tutorial, this project contains a series of open-ended requirements which describe the project you'll be building. There are many possible ways to correctly fulfill all of these requirements, and you should expect to use the internet, Codecademy, and/or other resources when you encounter a problem that you cannot easily solve."
   ]
  },
  {
   "cell_type": "markdown",
   "metadata": {},
   "source": [
    "#### Project Goals"
   ]
  },
  {
   "cell_type": "markdown",
   "metadata": {},
   "source": [
    "You will work to write several functions that investigate a dataset of _Jeopardy!_ questions and answers. Filter the dataset for topics that you're interested in, compute the average difficulty of those questions, and train to become the next Jeopardy champion!"
   ]
  },
  {
   "cell_type": "markdown",
   "metadata": {},
   "source": [
    "## Prerequisites"
   ]
  },
  {
   "cell_type": "markdown",
   "metadata": {},
   "source": [
    "In order to complete this project, you should have completed the Pandas lessons in the <a href=\"https://www.codecademy.com/learn/paths/analyze-data-with-python\">Analyze Data with Python Skill Path</a>. You can also find those lessons in the <a href=\"https://www.codecademy.com/learn/data-processing-pandas\">Data Analysis with Pandas course</a> or the <a href=\"https://www.codecademy.com/learn/paths/data-science/\">Data Scientist Career Path</a>.\n",
    "\n",
    "Finally, the <a href=\"https://www.codecademy.com/learn/practical-data-cleaning\">Practical Data Cleaning</a> course may also be helpful."
   ]
  },
  {
   "cell_type": "markdown",
   "metadata": {},
   "source": [
    "## Project Requirements"
   ]
  },
  {
   "cell_type": "markdown",
   "metadata": {},
   "source": [
    "1. We've provided a csv file containing data about the game show _Jeopardy!_ in a file named `jeopardy.csv`. Load the data into a DataFrame and investigate its contents. Try to print out specific columns.\n",
    "\n",
    "   Note that in order to make this project as \"real-world\" as possible, we haven't modified the data at all - we're giving it to you exactly how we found it. As a result, this data isn't as \"clean\" as the datasets you normally find on Codecademy. More specifically, there's something odd about the column names. After you figure out the problem with the column names, you may want to rename them to make your life easier for the rest of the project.\n",
    "   \n",
    "   In order to display the full contents of a column, we've added this line of code for you:\n",
    "   \n",
    "   ```py\n",
    "   pd.set_option('display.max_colwidth', None)\n",
    "   ```"
   ]
  },
  {
   "cell_type": "code",
   "metadata": {
    "ExecuteTime": {
     "end_time": "2024-12-26T19:30:16.405842Z",
     "start_time": "2024-12-26T19:30:13.158563Z"
    }
   },
   "source": [
    "import cudf.pandas\n",
    "import pandas as pd\n",
    "\n",
    "cudf.pandas.install()\n",
    "pd.set_option(\"display.max_colwidth\", None)"
   ],
   "outputs": [],
   "execution_count": 1
  },
  {
   "cell_type": "markdown",
   "metadata": {},
   "source": [
    "2. Write a function that filters the dataset for questions that contains all of the words in a list of words. For example, when the list `[\"King\", \"England\"]` was passed to our function, the function returned a DataFrame of 49 rows. Every row had the strings `\"King\"` and `\"England\"` somewhere in its `\" Question\"`.\n",
    "\n",
    "   Test your function by printing out the column containing the question of each row of the dataset."
   ]
  },
  {
   "cell_type": "code",
   "metadata": {
    "ExecuteTime": {
     "end_time": "2024-12-26T19:30:17.809370Z",
     "start_time": "2024-12-26T19:30:16.437301Z"
    }
   },
   "source": [
    "df = pd.read_csv(\"jeopardy.csv\")\n",
    "df.columns = df.columns.str.strip()\n",
    "df.head()"
   ],
   "outputs": [
    {
     "data": {
      "text/plain": [
       "   Show Number    Air Date      Round                         Category Value  \\\n",
       "0         4680  2004-12-31  Jeopardy!                          HISTORY  $200   \n",
       "1         4680  2004-12-31  Jeopardy!  ESPN's TOP 10 ALL-TIME ATHLETES  $200   \n",
       "2         4680  2004-12-31  Jeopardy!      EVERYBODY TALKS ABOUT IT...  $200   \n",
       "3         4680  2004-12-31  Jeopardy!                 THE COMPANY LINE  $200   \n",
       "4         4680  2004-12-31  Jeopardy!              EPITAPHS & TRIBUTES  $200   \n",
       "\n",
       "                                                                                                      Question  \\\n",
       "0             For the last 8 years of his life, Galileo was under house arrest for espousing this man's theory   \n",
       "1  No. 2: 1912 Olympian; football star at Carlisle Indian School; 6 MLB seasons with the Reds, Giants & Braves   \n",
       "2                     The city of Yuma in this state has a record average of 4,055 hours of sunshine each year   \n",
       "3                         In 1963, live on \"The Art Linkletter Show\", this company served its billionth burger   \n",
       "4     Signer of the Dec. of Indep., framer of the Constitution of Mass., second President of the United States   \n",
       "\n",
       "       Answer  \n",
       "0  Copernicus  \n",
       "1  Jim Thorpe  \n",
       "2     Arizona  \n",
       "3  McDonald's  \n",
       "4  John Adams  "
      ],
      "text/html": [
       "<div>\n",
       "<style scoped>\n",
       "    .dataframe tbody tr th:only-of-type {\n",
       "        vertical-align: middle;\n",
       "    }\n",
       "\n",
       "    .dataframe tbody tr th {\n",
       "        vertical-align: top;\n",
       "    }\n",
       "\n",
       "    .dataframe thead th {\n",
       "        text-align: right;\n",
       "    }\n",
       "</style>\n",
       "<table border=\"1\" class=\"dataframe\">\n",
       "  <thead>\n",
       "    <tr style=\"text-align: right;\">\n",
       "      <th></th>\n",
       "      <th>Show Number</th>\n",
       "      <th>Air Date</th>\n",
       "      <th>Round</th>\n",
       "      <th>Category</th>\n",
       "      <th>Value</th>\n",
       "      <th>Question</th>\n",
       "      <th>Answer</th>\n",
       "    </tr>\n",
       "  </thead>\n",
       "  <tbody>\n",
       "    <tr>\n",
       "      <th>0</th>\n",
       "      <td>4680</td>\n",
       "      <td>2004-12-31</td>\n",
       "      <td>Jeopardy!</td>\n",
       "      <td>HISTORY</td>\n",
       "      <td>$200</td>\n",
       "      <td>For the last 8 years of his life, Galileo was under house arrest for espousing this man's theory</td>\n",
       "      <td>Copernicus</td>\n",
       "    </tr>\n",
       "    <tr>\n",
       "      <th>1</th>\n",
       "      <td>4680</td>\n",
       "      <td>2004-12-31</td>\n",
       "      <td>Jeopardy!</td>\n",
       "      <td>ESPN's TOP 10 ALL-TIME ATHLETES</td>\n",
       "      <td>$200</td>\n",
       "      <td>No. 2: 1912 Olympian; football star at Carlisle Indian School; 6 MLB seasons with the Reds, Giants &amp; Braves</td>\n",
       "      <td>Jim Thorpe</td>\n",
       "    </tr>\n",
       "    <tr>\n",
       "      <th>2</th>\n",
       "      <td>4680</td>\n",
       "      <td>2004-12-31</td>\n",
       "      <td>Jeopardy!</td>\n",
       "      <td>EVERYBODY TALKS ABOUT IT...</td>\n",
       "      <td>$200</td>\n",
       "      <td>The city of Yuma in this state has a record average of 4,055 hours of sunshine each year</td>\n",
       "      <td>Arizona</td>\n",
       "    </tr>\n",
       "    <tr>\n",
       "      <th>3</th>\n",
       "      <td>4680</td>\n",
       "      <td>2004-12-31</td>\n",
       "      <td>Jeopardy!</td>\n",
       "      <td>THE COMPANY LINE</td>\n",
       "      <td>$200</td>\n",
       "      <td>In 1963, live on \"The Art Linkletter Show\", this company served its billionth burger</td>\n",
       "      <td>McDonald's</td>\n",
       "    </tr>\n",
       "    <tr>\n",
       "      <th>4</th>\n",
       "      <td>4680</td>\n",
       "      <td>2004-12-31</td>\n",
       "      <td>Jeopardy!</td>\n",
       "      <td>EPITAPHS &amp; TRIBUTES</td>\n",
       "      <td>$200</td>\n",
       "      <td>Signer of the Dec. of Indep., framer of the Constitution of Mass., second President of the United States</td>\n",
       "      <td>John Adams</td>\n",
       "    </tr>\n",
       "  </tbody>\n",
       "</table>\n",
       "</div>"
      ]
     },
     "execution_count": 2,
     "metadata": {},
     "output_type": "execute_result"
    }
   ],
   "execution_count": 2
  },
  {
   "cell_type": "code",
   "metadata": {
    "ExecuteTime": {
     "end_time": "2024-12-26T19:30:18.110355Z",
     "start_time": "2024-12-26T19:30:18.107154Z"
    }
   },
   "source": [
    "def filter_dataset(words_list: list[str], original_dataframe: pd.DataFrame) -> pd.DataFrame:\n",
    "    \"\"\"Filter dataset based on words list.\"\"\"\n",
    "    pattern = r\"\\b(?:\" + \"|\".join(words_list) + r\")\\b\"\n",
    "    return original_dataframe[original_dataframe.Question.str.contains(pattern, case=False)]"
   ],
   "outputs": [],
   "execution_count": 3
  },
  {
   "cell_type": "markdown",
   "metadata": {},
   "source": [
    "3. Test your original function with a few different sets of words to try to find some ways your function breaks. Edit your function so it is more robust.\n",
    "\n",
    "   For example, think about capitalization. We probably want to find questions that contain the word `\"King\"` or `\"king\"`.\n",
    "   \n",
    "   You may also want to check to make sure you don't find rows that contain substrings of your given words. For example, our function found a question that didn't contain the word `\"king\"`, however it did contain the word `\"viking\"` &mdash; it found the `\"king\"` inside `\"viking\"`. Note that this also comes with some drawbacks &mdash; you would no longer find questions that contained words like `\"England's\"`."
   ]
  },
  {
   "cell_type": "code",
   "metadata": {
    "ExecuteTime": {
     "end_time": "2024-12-26T19:30:18.814385Z",
     "start_time": "2024-12-26T19:30:18.113964Z"
    }
   },
   "source": [
    "filter_dataset([\"Yuma County\"], df)\n",
    "filter_dataset([\"small Rubber baLL\"], df)\n",
    "filter_dataset([\"King\"], df)"
   ],
   "outputs": [
    {
     "data": {
      "text/plain": [
       "        Show Number    Air Date             Round                    Category  \\\n",
       "40             4680  2004-12-31  Double Jeopardy!  DR. SEUSS AT THE MULTIPLEX   \n",
       "50             4680  2004-12-31  Double Jeopardy!  DR. SEUSS AT THE MULTIPLEX   \n",
       "399            2825  1996-12-06  Double Jeopardy!                       POETS   \n",
       "545            3036  1997-11-10         Jeopardy!                ON THE RADIO   \n",
       "781            4335  2003-06-06         Jeopardy!                   MY PLACE?   \n",
       "...             ...         ...               ...                         ...   \n",
       "216612         2046  1993-06-28  Double Jeopardy!             BIBLICAL PEOPLE   \n",
       "216675         3940  2001-10-19  Double Jeopardy!                       \"CAB\"   \n",
       "216752         5070  2006-09-29         Jeopardy!                 SIGNING OFF   \n",
       "216777         5070  2006-09-29  Double Jeopardy!             ANCIENT HISTORY   \n",
       "216787         5070  2006-09-29  Double Jeopardy!    TALES OF E.T.A. HOFFMANN   \n",
       "\n",
       "         Value  \\\n",
       "40       $1200   \n",
       "50       $2000   \n",
       "399       $400   \n",
       "545       $200   \n",
       "781       $200   \n",
       "...        ...   \n",
       "216612    $600   \n",
       "216675    $600   \n",
       "216752    $200   \n",
       "216777    $400   \n",
       "216787  $2,000   \n",
       "\n",
       "                                                                                                                                                                                 Question  \\\n",
       "40      <a href=\"http://www.j-archive.com/media/2004-12-31_DJ_26.mp3\">Ripped from today's headlines, he was a turtle king gone mad; Mack was the one good turtle who'd bring him down</a>   \n",
       "50                    <a href=\"http://www.j-archive.com/media/2004-12-31_DJ_24.mp3\">\"500 Hats\"... 500 ways to die.  On July 4th, this young boy will defy a king... & become a legend</a>   \n",
       "399                                                                                                                   Between 1842 & 1885, he repeatedly revised his \"Idylls of the King\"   \n",
       "545                                                                                                       Robin Quivers is the radio consort of this self-proclaimed  \"King of All Media\"   \n",
       "781                                                                                                              A Norman could say, \"I'm the king of the motte-and-bailey style of\" this   \n",
       "...                                                                                                                                                                                   ...   \n",
       "216612                                                                                                                             Her 2 husbands were Uriah the Hittite & David the king   \n",
       "216675                                                                                                           Stephen King's 1980 overview of the horror genre was called \"Danse\" this   \n",
       "216752                                                                       Upon signing his name in 1776 he said, \"There, King George will be able to read that without his spectacles\"   \n",
       "216777                                                                 The first one of these tombs was built about 2650 B.C. by Imhotep for King Zoser & rose about 200 feet using steps   \n",
       "216787                                                                                   A Hoffmann tale title lost the words \"And The Mouse King\" when it became this Tchaikovsky ballet   \n",
       "\n",
       "                                   Answer  \n",
       "40                                 Yertle  \n",
       "50                    Bartholomew Cubbins  \n",
       "399                  Alfred Lord Tennyson  \n",
       "545                          Howard Stern  \n",
       "781                                castle  \n",
       "...                                   ...  \n",
       "216612                          Bathsheba  \n",
       "216675                            Macabre  \n",
       "216752                     (John) Hancock  \n",
       "216777  a pyramid (the pyramids accepted)  \n",
       "216787                     The Nutcracker  \n",
       "\n",
       "[2744 rows x 7 columns]"
      ],
      "text/html": [
       "<div>\n",
       "<style scoped>\n",
       "    .dataframe tbody tr th:only-of-type {\n",
       "        vertical-align: middle;\n",
       "    }\n",
       "\n",
       "    .dataframe tbody tr th {\n",
       "        vertical-align: top;\n",
       "    }\n",
       "\n",
       "    .dataframe thead th {\n",
       "        text-align: right;\n",
       "    }\n",
       "</style>\n",
       "<table border=\"1\" class=\"dataframe\">\n",
       "  <thead>\n",
       "    <tr style=\"text-align: right;\">\n",
       "      <th></th>\n",
       "      <th>Show Number</th>\n",
       "      <th>Air Date</th>\n",
       "      <th>Round</th>\n",
       "      <th>Category</th>\n",
       "      <th>Value</th>\n",
       "      <th>Question</th>\n",
       "      <th>Answer</th>\n",
       "    </tr>\n",
       "  </thead>\n",
       "  <tbody>\n",
       "    <tr>\n",
       "      <th>40</th>\n",
       "      <td>4680</td>\n",
       "      <td>2004-12-31</td>\n",
       "      <td>Double Jeopardy!</td>\n",
       "      <td>DR. SEUSS AT THE MULTIPLEX</td>\n",
       "      <td>$1200</td>\n",
       "      <td>&lt;a href=\"http://www.j-archive.com/media/2004-12-31_DJ_26.mp3\"&gt;Ripped from today's headlines, he was a turtle king gone mad; Mack was the one good turtle who'd bring him down&lt;/a&gt;</td>\n",
       "      <td>Yertle</td>\n",
       "    </tr>\n",
       "    <tr>\n",
       "      <th>50</th>\n",
       "      <td>4680</td>\n",
       "      <td>2004-12-31</td>\n",
       "      <td>Double Jeopardy!</td>\n",
       "      <td>DR. SEUSS AT THE MULTIPLEX</td>\n",
       "      <td>$2000</td>\n",
       "      <td>&lt;a href=\"http://www.j-archive.com/media/2004-12-31_DJ_24.mp3\"&gt;\"500 Hats\"... 500 ways to die.  On July 4th, this young boy will defy a king... &amp; become a legend&lt;/a&gt;</td>\n",
       "      <td>Bartholomew Cubbins</td>\n",
       "    </tr>\n",
       "    <tr>\n",
       "      <th>399</th>\n",
       "      <td>2825</td>\n",
       "      <td>1996-12-06</td>\n",
       "      <td>Double Jeopardy!</td>\n",
       "      <td>POETS</td>\n",
       "      <td>$400</td>\n",
       "      <td>Between 1842 &amp; 1885, he repeatedly revised his \"Idylls of the King\"</td>\n",
       "      <td>Alfred Lord Tennyson</td>\n",
       "    </tr>\n",
       "    <tr>\n",
       "      <th>545</th>\n",
       "      <td>3036</td>\n",
       "      <td>1997-11-10</td>\n",
       "      <td>Jeopardy!</td>\n",
       "      <td>ON THE RADIO</td>\n",
       "      <td>$200</td>\n",
       "      <td>Robin Quivers is the radio consort of this self-proclaimed  \"King of All Media\"</td>\n",
       "      <td>Howard Stern</td>\n",
       "    </tr>\n",
       "    <tr>\n",
       "      <th>781</th>\n",
       "      <td>4335</td>\n",
       "      <td>2003-06-06</td>\n",
       "      <td>Jeopardy!</td>\n",
       "      <td>MY PLACE?</td>\n",
       "      <td>$200</td>\n",
       "      <td>A Norman could say, \"I'm the king of the motte-and-bailey style of\" this</td>\n",
       "      <td>castle</td>\n",
       "    </tr>\n",
       "    <tr>\n",
       "      <th>...</th>\n",
       "      <td>...</td>\n",
       "      <td>...</td>\n",
       "      <td>...</td>\n",
       "      <td>...</td>\n",
       "      <td>...</td>\n",
       "      <td>...</td>\n",
       "      <td>...</td>\n",
       "    </tr>\n",
       "    <tr>\n",
       "      <th>216612</th>\n",
       "      <td>2046</td>\n",
       "      <td>1993-06-28</td>\n",
       "      <td>Double Jeopardy!</td>\n",
       "      <td>BIBLICAL PEOPLE</td>\n",
       "      <td>$600</td>\n",
       "      <td>Her 2 husbands were Uriah the Hittite &amp; David the king</td>\n",
       "      <td>Bathsheba</td>\n",
       "    </tr>\n",
       "    <tr>\n",
       "      <th>216675</th>\n",
       "      <td>3940</td>\n",
       "      <td>2001-10-19</td>\n",
       "      <td>Double Jeopardy!</td>\n",
       "      <td>\"CAB\"</td>\n",
       "      <td>$600</td>\n",
       "      <td>Stephen King's 1980 overview of the horror genre was called \"Danse\" this</td>\n",
       "      <td>Macabre</td>\n",
       "    </tr>\n",
       "    <tr>\n",
       "      <th>216752</th>\n",
       "      <td>5070</td>\n",
       "      <td>2006-09-29</td>\n",
       "      <td>Jeopardy!</td>\n",
       "      <td>SIGNING OFF</td>\n",
       "      <td>$200</td>\n",
       "      <td>Upon signing his name in 1776 he said, \"There, King George will be able to read that without his spectacles\"</td>\n",
       "      <td>(John) Hancock</td>\n",
       "    </tr>\n",
       "    <tr>\n",
       "      <th>216777</th>\n",
       "      <td>5070</td>\n",
       "      <td>2006-09-29</td>\n",
       "      <td>Double Jeopardy!</td>\n",
       "      <td>ANCIENT HISTORY</td>\n",
       "      <td>$400</td>\n",
       "      <td>The first one of these tombs was built about 2650 B.C. by Imhotep for King Zoser &amp; rose about 200 feet using steps</td>\n",
       "      <td>a pyramid (the pyramids accepted)</td>\n",
       "    </tr>\n",
       "    <tr>\n",
       "      <th>216787</th>\n",
       "      <td>5070</td>\n",
       "      <td>2006-09-29</td>\n",
       "      <td>Double Jeopardy!</td>\n",
       "      <td>TALES OF E.T.A. HOFFMANN</td>\n",
       "      <td>$2,000</td>\n",
       "      <td>A Hoffmann tale title lost the words \"And The Mouse King\" when it became this Tchaikovsky ballet</td>\n",
       "      <td>The Nutcracker</td>\n",
       "    </tr>\n",
       "  </tbody>\n",
       "</table>\n",
       "<p>2744 rows × 7 columns</p>\n",
       "</div>"
      ]
     },
     "execution_count": 4,
     "metadata": {},
     "output_type": "execute_result"
    }
   ],
   "execution_count": 4
  },
  {
   "cell_type": "markdown",
   "metadata": {},
   "source": [
    "4. We may want to eventually compute aggregate statistics, like `.mean()` on the `\" Value\"` column. But right now, the values in that column are strings. Convert the`\" Value\"` column to floats. If you'd like to, you can create a new column with float values.\n",
    "\n",
    "   While most of the values in the `\" Value\"` column represent a dollar amount as a string, note that some do not &mdash; these values will need to be handled differently!\n",
    "\n",
    "   Now that you can filter the dataset of question, use your new column that contains the float values of each question to find the \"difficulty\" of certain topics. For example, what is the average value of questions that contain the word `\"King\"`?\n",
    "   \n",
    "   Make sure to use the dataset that contains the float values as the dataset you use in your filtering function."
   ]
  },
  {
   "cell_type": "code",
   "metadata": {
    "ExecuteTime": {
     "end_time": "2024-12-26T19:30:18.905731Z",
     "start_time": "2024-12-26T19:30:18.823779Z"
    }
   },
   "source": [
    "def _transform_string_value_to_float(val: str) -> float:\n",
    "    if val == \"\":\n",
    "        return 0\n",
    "\n",
    "    if val and val[0] == \"$\":\n",
    "        return float(val[1:].replace(\",\", \"_\"))\n",
    "    return None\n",
    "\n",
    "\n",
    "df[\"Value\"] = df.Value.apply(_transform_string_value_to_float)\n",
    "df.head()"
   ],
   "outputs": [
    {
     "data": {
      "text/plain": [
       "   Show Number    Air Date      Round                         Category  Value  \\\n",
       "0         4680  2004-12-31  Jeopardy!                          HISTORY  200.0   \n",
       "1         4680  2004-12-31  Jeopardy!  ESPN's TOP 10 ALL-TIME ATHLETES  200.0   \n",
       "2         4680  2004-12-31  Jeopardy!      EVERYBODY TALKS ABOUT IT...  200.0   \n",
       "3         4680  2004-12-31  Jeopardy!                 THE COMPANY LINE  200.0   \n",
       "4         4680  2004-12-31  Jeopardy!              EPITAPHS & TRIBUTES  200.0   \n",
       "\n",
       "                                                                                                      Question  \\\n",
       "0             For the last 8 years of his life, Galileo was under house arrest for espousing this man's theory   \n",
       "1  No. 2: 1912 Olympian; football star at Carlisle Indian School; 6 MLB seasons with the Reds, Giants & Braves   \n",
       "2                     The city of Yuma in this state has a record average of 4,055 hours of sunshine each year   \n",
       "3                         In 1963, live on \"The Art Linkletter Show\", this company served its billionth burger   \n",
       "4     Signer of the Dec. of Indep., framer of the Constitution of Mass., second President of the United States   \n",
       "\n",
       "       Answer  \n",
       "0  Copernicus  \n",
       "1  Jim Thorpe  \n",
       "2     Arizona  \n",
       "3  McDonald's  \n",
       "4  John Adams  "
      ],
      "text/html": [
       "<div>\n",
       "<style scoped>\n",
       "    .dataframe tbody tr th:only-of-type {\n",
       "        vertical-align: middle;\n",
       "    }\n",
       "\n",
       "    .dataframe tbody tr th {\n",
       "        vertical-align: top;\n",
       "    }\n",
       "\n",
       "    .dataframe thead th {\n",
       "        text-align: right;\n",
       "    }\n",
       "</style>\n",
       "<table border=\"1\" class=\"dataframe\">\n",
       "  <thead>\n",
       "    <tr style=\"text-align: right;\">\n",
       "      <th></th>\n",
       "      <th>Show Number</th>\n",
       "      <th>Air Date</th>\n",
       "      <th>Round</th>\n",
       "      <th>Category</th>\n",
       "      <th>Value</th>\n",
       "      <th>Question</th>\n",
       "      <th>Answer</th>\n",
       "    </tr>\n",
       "  </thead>\n",
       "  <tbody>\n",
       "    <tr>\n",
       "      <th>0</th>\n",
       "      <td>4680</td>\n",
       "      <td>2004-12-31</td>\n",
       "      <td>Jeopardy!</td>\n",
       "      <td>HISTORY</td>\n",
       "      <td>200.0</td>\n",
       "      <td>For the last 8 years of his life, Galileo was under house arrest for espousing this man's theory</td>\n",
       "      <td>Copernicus</td>\n",
       "    </tr>\n",
       "    <tr>\n",
       "      <th>1</th>\n",
       "      <td>4680</td>\n",
       "      <td>2004-12-31</td>\n",
       "      <td>Jeopardy!</td>\n",
       "      <td>ESPN's TOP 10 ALL-TIME ATHLETES</td>\n",
       "      <td>200.0</td>\n",
       "      <td>No. 2: 1912 Olympian; football star at Carlisle Indian School; 6 MLB seasons with the Reds, Giants &amp; Braves</td>\n",
       "      <td>Jim Thorpe</td>\n",
       "    </tr>\n",
       "    <tr>\n",
       "      <th>2</th>\n",
       "      <td>4680</td>\n",
       "      <td>2004-12-31</td>\n",
       "      <td>Jeopardy!</td>\n",
       "      <td>EVERYBODY TALKS ABOUT IT...</td>\n",
       "      <td>200.0</td>\n",
       "      <td>The city of Yuma in this state has a record average of 4,055 hours of sunshine each year</td>\n",
       "      <td>Arizona</td>\n",
       "    </tr>\n",
       "    <tr>\n",
       "      <th>3</th>\n",
       "      <td>4680</td>\n",
       "      <td>2004-12-31</td>\n",
       "      <td>Jeopardy!</td>\n",
       "      <td>THE COMPANY LINE</td>\n",
       "      <td>200.0</td>\n",
       "      <td>In 1963, live on \"The Art Linkletter Show\", this company served its billionth burger</td>\n",
       "      <td>McDonald's</td>\n",
       "    </tr>\n",
       "    <tr>\n",
       "      <th>4</th>\n",
       "      <td>4680</td>\n",
       "      <td>2004-12-31</td>\n",
       "      <td>Jeopardy!</td>\n",
       "      <td>EPITAPHS &amp; TRIBUTES</td>\n",
       "      <td>200.0</td>\n",
       "      <td>Signer of the Dec. of Indep., framer of the Constitution of Mass., second President of the United States</td>\n",
       "      <td>John Adams</td>\n",
       "    </tr>\n",
       "  </tbody>\n",
       "</table>\n",
       "</div>"
      ]
     },
     "execution_count": 5,
     "metadata": {},
     "output_type": "execute_result"
    }
   ],
   "execution_count": 5
  },
  {
   "cell_type": "markdown",
   "metadata": {},
   "source": [
    "5. Write a function that returns the count of unique answers to all of the questions in a dataset. For example, after filtering the entire dataset to only questions containing the word `\"King\"`, we could then find all of the unique answers to those questions. The answer \"Henry VIII\" appeared 55 times and was the most common answer."
   ]
  },
  {
   "cell_type": "code",
   "metadata": {
    "ExecuteTime": {
     "end_time": "2024-12-26T19:30:19.785450Z",
     "start_time": "2024-12-26T19:30:18.912644Z"
    }
   },
   "source": [
    "def _count_unique_answers(df: pd.DataFrame) -> int:\n",
    "    return df.Answer.nunique()\n",
    "\n",
    "\n",
    "_count_unique_answers(filter_dataset([\"McDonald\", \"Burger\"], df))\n",
    "filter_dataset([\"McDonald\", \"burger\"], df)"
   ],
   "outputs": [
    {
     "data": {
      "text/plain": [
       "        Show Number    Air Date             Round           Category   Value  \\\n",
       "3              4680  2004-12-31         Jeopardy!   THE COMPANY LINE   200.0   \n",
       "2577           4220  2002-12-27         Jeopardy!     NATIONAL FOODS   600.0   \n",
       "3957           5996  2010-10-11         Jeopardy!       SECRET MENUS   400.0   \n",
       "3969           5996  2010-10-11         Jeopardy!       SECRET MENUS   800.0   \n",
       "6828           5363  2007-12-26         Jeopardy!  GAMES PEOPLE PLAY   800.0   \n",
       "...             ...         ...               ...                ...     ...   \n",
       "203486         6256  2011-11-28         Jeopardy!    THE MIDDLE AGES   200.0   \n",
       "204386         5712  2009-06-09         Jeopardy!     2 FIRST NAMES?   200.0   \n",
       "204608         5830  2010-01-08  Double Jeopardy!      \"NIGHT\" SHIFT  1200.0   \n",
       "209864         1164  1989-09-28  Double Jeopardy!             PEOPLE   200.0   \n",
       "214780         2907  1997-04-01  Double Jeopardy!    \"FOOL\"ISH SONGS  1000.0   \n",
       "\n",
       "                                                                                                             Question  \\\n",
       "3                                In 1963, live on \"The Art Linkletter Show\", this company served its billionth burger   \n",
       "2577                                                        This cured meat is in the classic McDonald's Egg McMuffin   \n",
       "3957                        Wendy's will make you a grand slam burger with this many patties, but don't tell everyone   \n",
       "3969                           Fatburger offers a \"Hypocrite Burger\" featuring this type of patty with slabs of bacon   \n",
       "6828    Jordan & Bird hit \"nothing but net\" playing this shot-for-shot basketball game in 1990s TV ads for McDonald's   \n",
       "...                                                                                                               ...   \n",
       "203486            In 1955, 52-year-old Ray Kroc opened his first burger joint in the chain called not Kroc's but this   \n",
       "204386                 The original Ronald McDonald, today you know him better as the \"Today\" show's weather reporter   \n",
       "204608               Warren Burger got his law degree at one of these & rose to be Chief Justice of the United States   \n",
       "209864                            \"Today\" Show weatherman Willard Scott was the 1st to play this clown for McDonald's   \n",
       "214780                                     Michael McDonald co-wrote this 1979 Doobie Brothers hit with Kenny Loggins   \n",
       "\n",
       "                        Answer  \n",
       "3                   McDonald's  \n",
       "2577            Canadian bacon  \n",
       "3957                      four  \n",
       "3969              veggie patty  \n",
       "6828                     HORSE  \n",
       "...                        ...  \n",
       "203486              McDonald's  \n",
       "204386           Willard Scott  \n",
       "204608          a night school  \n",
       "209864         Ronald McDonald  \n",
       "214780  \"What A Fool Believes\"  \n",
       "\n",
       "[101 rows x 7 columns]"
      ],
      "text/html": [
       "<div>\n",
       "<style scoped>\n",
       "    .dataframe tbody tr th:only-of-type {\n",
       "        vertical-align: middle;\n",
       "    }\n",
       "\n",
       "    .dataframe tbody tr th {\n",
       "        vertical-align: top;\n",
       "    }\n",
       "\n",
       "    .dataframe thead th {\n",
       "        text-align: right;\n",
       "    }\n",
       "</style>\n",
       "<table border=\"1\" class=\"dataframe\">\n",
       "  <thead>\n",
       "    <tr style=\"text-align: right;\">\n",
       "      <th></th>\n",
       "      <th>Show Number</th>\n",
       "      <th>Air Date</th>\n",
       "      <th>Round</th>\n",
       "      <th>Category</th>\n",
       "      <th>Value</th>\n",
       "      <th>Question</th>\n",
       "      <th>Answer</th>\n",
       "    </tr>\n",
       "  </thead>\n",
       "  <tbody>\n",
       "    <tr>\n",
       "      <th>3</th>\n",
       "      <td>4680</td>\n",
       "      <td>2004-12-31</td>\n",
       "      <td>Jeopardy!</td>\n",
       "      <td>THE COMPANY LINE</td>\n",
       "      <td>200.0</td>\n",
       "      <td>In 1963, live on \"The Art Linkletter Show\", this company served its billionth burger</td>\n",
       "      <td>McDonald's</td>\n",
       "    </tr>\n",
       "    <tr>\n",
       "      <th>2577</th>\n",
       "      <td>4220</td>\n",
       "      <td>2002-12-27</td>\n",
       "      <td>Jeopardy!</td>\n",
       "      <td>NATIONAL FOODS</td>\n",
       "      <td>600.0</td>\n",
       "      <td>This cured meat is in the classic McDonald's Egg McMuffin</td>\n",
       "      <td>Canadian bacon</td>\n",
       "    </tr>\n",
       "    <tr>\n",
       "      <th>3957</th>\n",
       "      <td>5996</td>\n",
       "      <td>2010-10-11</td>\n",
       "      <td>Jeopardy!</td>\n",
       "      <td>SECRET MENUS</td>\n",
       "      <td>400.0</td>\n",
       "      <td>Wendy's will make you a grand slam burger with this many patties, but don't tell everyone</td>\n",
       "      <td>four</td>\n",
       "    </tr>\n",
       "    <tr>\n",
       "      <th>3969</th>\n",
       "      <td>5996</td>\n",
       "      <td>2010-10-11</td>\n",
       "      <td>Jeopardy!</td>\n",
       "      <td>SECRET MENUS</td>\n",
       "      <td>800.0</td>\n",
       "      <td>Fatburger offers a \"Hypocrite Burger\" featuring this type of patty with slabs of bacon</td>\n",
       "      <td>veggie patty</td>\n",
       "    </tr>\n",
       "    <tr>\n",
       "      <th>6828</th>\n",
       "      <td>5363</td>\n",
       "      <td>2007-12-26</td>\n",
       "      <td>Jeopardy!</td>\n",
       "      <td>GAMES PEOPLE PLAY</td>\n",
       "      <td>800.0</td>\n",
       "      <td>Jordan &amp; Bird hit \"nothing but net\" playing this shot-for-shot basketball game in 1990s TV ads for McDonald's</td>\n",
       "      <td>HORSE</td>\n",
       "    </tr>\n",
       "    <tr>\n",
       "      <th>...</th>\n",
       "      <td>...</td>\n",
       "      <td>...</td>\n",
       "      <td>...</td>\n",
       "      <td>...</td>\n",
       "      <td>...</td>\n",
       "      <td>...</td>\n",
       "      <td>...</td>\n",
       "    </tr>\n",
       "    <tr>\n",
       "      <th>203486</th>\n",
       "      <td>6256</td>\n",
       "      <td>2011-11-28</td>\n",
       "      <td>Jeopardy!</td>\n",
       "      <td>THE MIDDLE AGES</td>\n",
       "      <td>200.0</td>\n",
       "      <td>In 1955, 52-year-old Ray Kroc opened his first burger joint in the chain called not Kroc's but this</td>\n",
       "      <td>McDonald's</td>\n",
       "    </tr>\n",
       "    <tr>\n",
       "      <th>204386</th>\n",
       "      <td>5712</td>\n",
       "      <td>2009-06-09</td>\n",
       "      <td>Jeopardy!</td>\n",
       "      <td>2 FIRST NAMES?</td>\n",
       "      <td>200.0</td>\n",
       "      <td>The original Ronald McDonald, today you know him better as the \"Today\" show's weather reporter</td>\n",
       "      <td>Willard Scott</td>\n",
       "    </tr>\n",
       "    <tr>\n",
       "      <th>204608</th>\n",
       "      <td>5830</td>\n",
       "      <td>2010-01-08</td>\n",
       "      <td>Double Jeopardy!</td>\n",
       "      <td>\"NIGHT\" SHIFT</td>\n",
       "      <td>1200.0</td>\n",
       "      <td>Warren Burger got his law degree at one of these &amp; rose to be Chief Justice of the United States</td>\n",
       "      <td>a night school</td>\n",
       "    </tr>\n",
       "    <tr>\n",
       "      <th>209864</th>\n",
       "      <td>1164</td>\n",
       "      <td>1989-09-28</td>\n",
       "      <td>Double Jeopardy!</td>\n",
       "      <td>PEOPLE</td>\n",
       "      <td>200.0</td>\n",
       "      <td>\"Today\" Show weatherman Willard Scott was the 1st to play this clown for McDonald's</td>\n",
       "      <td>Ronald McDonald</td>\n",
       "    </tr>\n",
       "    <tr>\n",
       "      <th>214780</th>\n",
       "      <td>2907</td>\n",
       "      <td>1997-04-01</td>\n",
       "      <td>Double Jeopardy!</td>\n",
       "      <td>\"FOOL\"ISH SONGS</td>\n",
       "      <td>1000.0</td>\n",
       "      <td>Michael McDonald co-wrote this 1979 Doobie Brothers hit with Kenny Loggins</td>\n",
       "      <td>\"What A Fool Believes\"</td>\n",
       "    </tr>\n",
       "  </tbody>\n",
       "</table>\n",
       "<p>101 rows × 7 columns</p>\n",
       "</div>"
      ]
     },
     "execution_count": 6,
     "metadata": {},
     "output_type": "execute_result"
    }
   ],
   "execution_count": 6
  },
  {
   "cell_type": "markdown",
   "metadata": {},
   "source": [
    "6. Explore from here! This is an incredibly rich dataset, and there are so many interesting things to discover. There are a few columns that we haven't even started looking at yet. Here are some ideas on ways to continue working with this data:\n",
    "\n",
    " * Investigate the ways in which questions change over time by filtering by the date. How many questions from the 90s use the word `\"Computer\"` compared to questions from the 2000s?\n",
    " * Is there a connection between the round and the category? Are you more likely to find certain categories, like `\"Literature\"` in Single Jeopardy or Double Jeopardy?\n",
    " * Build a system to quiz yourself. Grab random questions, and use the <a href=\"https://docs.python.org/3/library/functions.html#input\">input</a> function to get a response from the user. Check to see if that response was right or wrong."
   ]
  },
  {
   "metadata": {},
   "cell_type": "markdown",
   "source": "1. How many questions from the 90s use the word `\"Computer\"` compared to questions from the 2000s?"
  },
  {
   "metadata": {
    "ExecuteTime": {
     "end_time": "2024-12-26T19:30:19.800825Z",
     "start_time": "2024-12-26T19:30:19.797766Z"
    }
   },
   "cell_type": "code",
   "source": [
    "def _generate_decade(year: int) -> str:\n",
    "    if year < 0:\n",
    "        raise ValueError(\"Year must be a positive integer\")\n",
    "\n",
    "    decade = (year // 10) * 10\n",
    "    if decade < 2000:\n",
    "        return f\"{decade % 100}'s\"\n",
    "    else:\n",
    "        return f\"{decade}s\""
   ],
   "outputs": [],
   "execution_count": 7
  },
  {
   "cell_type": "code",
   "metadata": {
    "ExecuteTime": {
     "end_time": "2024-12-26T19:34:04.854589Z",
     "start_time": "2024-12-26T19:34:04.521351Z"
    }
   },
   "source": [
    "df[\"Air Decade\"] = df[\"Air Date\"].apply(lambda x: _generate_decade(int(x.split(\"-\")[0])))\n",
    "questions_with_computer = filter_dataset([\"computer\"], df)\n",
    "questions_with_computer.groupby(\"Air Decade\").Question.count().sort_index()"
   ],
   "outputs": [
    {
     "data": {
      "text/plain": [
       "Air Decade\n",
       "2000s    227\n",
       "2010s     51\n",
       "80's       5\n",
       "90's      79\n",
       "Name: Question, dtype: int64"
      ]
     },
     "execution_count": 12,
     "metadata": {},
     "output_type": "execute_result"
    }
   ],
   "execution_count": 12
  },
  {
   "cell_type": "markdown",
   "metadata": {},
   "source": [
    "## Solution"
   ]
  },
  {
   "cell_type": "markdown",
   "metadata": {},
   "source": [
    "7. Compare your program to our <a href=\"https://content.codecademy.com/PRO/independent-practice-projects/jeopardy/jeopardy_solution.zip\">sample solution code</a> - remember, that your program might look different from ours (and probably will) and that's okay!"
   ]
  },
  {
   "cell_type": "markdown",
   "metadata": {},
   "source": [
    "8. Great work! Visit <a href=\"https://discuss.codecademy.com/t/this-is-jeopardy-challenge-project-python-pandas/462365\">our forums</a> to compare your project to our sample solution code. You can also learn how to host your own solution on GitHub so you can share it with other learners! Your solution might look different from ours, and that's okay! There are multiple ways to solve these projects, and you'll learn more by seeing others' code."
   ]
  },
  {
   "cell_type": "code",
   "metadata": {
    "ExecuteTime": {
     "end_time": "2024-12-26T19:30:20.086494Z",
     "start_time": "2024-12-26T19:30:20.084483Z"
    }
   },
   "source": [],
   "outputs": [],
   "execution_count": null
  }
 ],
 "metadata": {
  "kernelspec": {
   "display_name": "Python 3 (ipykernel)",
   "language": "python",
   "name": "python3"
  },
  "language_info": {
   "codemirror_mode": {
    "name": "ipython",
    "version": 3
   },
   "file_extension": ".py",
   "mimetype": "text/x-python",
   "name": "python",
   "nbconvert_exporter": "python",
   "pygments_lexer": "ipython3",
   "version": "3.7.11"
  }
 },
 "nbformat": 4,
 "nbformat_minor": 2
}
